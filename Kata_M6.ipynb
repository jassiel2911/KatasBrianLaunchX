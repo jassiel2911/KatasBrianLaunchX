{
 "cells": [
  {
   "cell_type": "markdown",
   "metadata": {},
   "source": [
    "# Ejercicio 1: Crear y usar listas de Python\n",
    "## Ejercicio: Usar listas para almacenar nombres de planetas"
   ]
  },
  {
   "cell_type": "code",
   "execution_count": 1,
   "metadata": {},
   "outputs": [
    {
     "name": "stdout",
     "output_type": "stream",
     "text": [
      "['Mercurio', 'Venus', 'Tierra', 'Marte', 'Jupiter', 'Saturno', 'Urano', 'Neptuno']\n"
     ]
    }
   ],
   "source": [
    "# Creamos la lista de planetas y la mostramos\n",
    "\n",
    "planetas = [\"Mercurio\", \"Venus\", \"Tierra\", \"Marte\", \"Jupiter\", \"Saturno\", \"Urano\", \"Neptuno\"]\n",
    "print(planetas)"
   ]
  },
  {
   "cell_type": "code",
   "execution_count": 3,
   "metadata": {},
   "outputs": [
    {
     "name": "stdout",
     "output_type": "stream",
     "text": [
      "['Mercurio', 'Venus', 'Tierra', 'Marte', 'Jupiter', 'Saturno', 'Urano', 'Neptuno', 'Plutón', 'Plutón']\n"
     ]
    },
    {
     "data": {
      "text/plain": [
       "'Plutón'"
      ]
     },
     "execution_count": 3,
     "metadata": {},
     "output_type": "execute_result"
    }
   ],
   "source": [
    "# Agregamos a Plutón y mostramos el último elemento\n",
    "\n",
    "planetas.append(\"Plutón\")\n",
    "print(planetas)\n",
    "planetas[-1]\n"
   ]
  },
  {
   "cell_type": "markdown",
   "metadata": {},
   "source": [
    "# Ejercicio 2: Trabajando con datos de una lista.\n",
    "\n",
    "## Usar slices para recuperar partes de una lista."
   ]
  },
  {
   "cell_type": "code",
   "execution_count": 6,
   "metadata": {},
   "outputs": [
    {
     "name": "stdout",
     "output_type": "stream",
     "text": [
      "El planeta ingresado ocupa el lugar:  2 del Sol\n",
      "Planetas más cercanos que  Venus\n",
      "['Mercurio']\n",
      "Planetas más lejanos que  Venus\n",
      "['Tierra', 'Marte', 'Jupiter', 'Saturno', 'Urano', 'Neptuno']\n"
     ]
    }
   ],
   "source": [
    "planets = planetas = [\"Mercurio\", \"Venus\", \"Tierra\", \"Marte\", \"Jupiter\", \"Saturno\", \"Urano\", \"Neptuno\"]\n",
    "\n",
    "# Solicitamos el nombre de una planeta.\n",
    "\n",
    "nuevo_planeta = input(\"Ingresa el nombre del planeta (primera letra en mayúscula): \")\n",
    "planeta_index = planets.index(nuevo_planeta)\n",
    "print(\"El planeta ingresado ocupa el lugar: \", planeta_index + 1, \"del Sol\")\n",
    "\n",
    "# Planetas más cercanos al Sol.\n",
    "\n",
    "print(\"Planetas más cercanos que \",nuevo_planeta)\n",
    "print(planets[0:planeta_index])\n",
    "\n",
    "# Planetas más lejanos al Sol.\n",
    "\n",
    "print(\"Planetas más lejanos que \",nuevo_planeta)\n",
    "print(planets[planeta_index + 1:])\n"
   ]
  }
 ],
 "metadata": {
  "interpreter": {
   "hash": "2b9edfc7eaec077dc9f0d3913a104727068fac3f339d004fceb4ef0ef78c9124"
  },
  "kernelspec": {
   "display_name": "Python 3.9.6 64-bit",
   "language": "python",
   "name": "python3"
  },
  "language_info": {
   "codemirror_mode": {
    "name": "ipython",
    "version": 3
   },
   "file_extension": ".py",
   "mimetype": "text/x-python",
   "name": "python",
   "nbconvert_exporter": "python",
   "pygments_lexer": "ipython3",
   "version": "3.9.6"
  },
  "orig_nbformat": 4
 },
 "nbformat": 4,
 "nbformat_minor": 2
}
