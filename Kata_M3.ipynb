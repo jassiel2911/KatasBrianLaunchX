{
 "cells": [
  {
   "cell_type": "markdown",
   "metadata": {},
   "source": [
    "# Ejercicio - Escribir declaraciones if, else y elif"
   ]
  },
  {
   "cell_type": "code",
   "execution_count": 2,
   "metadata": {},
   "outputs": [
    {
     "name": "stdout",
     "output_type": "stream",
     "text": [
      "El asteroide va rápido\n"
     ]
    }
   ],
   "source": [
    "vel_aster = 49\n",
    "\n",
    "if vel_aster > 25:\n",
    "    print(\"El asteroide va rápido\")\n",
    "else:\n",
    "    print(\"El asteroide no supera la velocidad, por lo que no hay peligro\")"
   ]
  },
  {
   "cell_type": "code",
   "execution_count": 3,
   "metadata": {},
   "outputs": [
    {
     "name": "stdout",
     "output_type": "stream",
     "text": [
      "Falsa alarma\n"
     ]
    }
   ],
   "source": [
    "vel_aster = 19\n",
    "\n",
    "if vel_aster >= 20:\n",
    "    print(\"Alerta, se ha visto que un asteroide ha entrado a la atmósfera\")\n",
    "else:\n",
    "    print(\"Falsa alarma\")"
   ]
  },
  {
   "cell_type": "markdown",
   "metadata": {},
   "source": [
    "# Ejercicio: Uso de operadores and y or"
   ]
  },
  {
   "cell_type": "code",
   "execution_count": null,
   "metadata": {},
   "outputs": [],
   "source": [
    "vel_aster = 25\n",
    "tamano = 40\n",
    "\n",
    "if vel_aster > 25 and tamano < 25:\n",
    "    print(\"El impacto de este asteroide causará mucho daño a nuestro planeta\")\n",
    "elif vel_aster >= 20:\n",
    "    print(\"El asteroide irradia una luz brillante\")\n",
    "elif tamano < 25:\n",
    "    print(\"Fuera de peligro\")\n",
    "else:\n",
    "    print(\"Fuera de peligro\") \n"
   ]
  }
 ],
 "metadata": {
  "interpreter": {
   "hash": "2b9edfc7eaec077dc9f0d3913a104727068fac3f339d004fceb4ef0ef78c9124"
  },
  "kernelspec": {
   "display_name": "Python 3.9.6 64-bit",
   "language": "python",
   "name": "python3"
  },
  "language_info": {
   "codemirror_mode": {
    "name": "ipython",
    "version": 3
   },
   "file_extension": ".py",
   "mimetype": "text/x-python",
   "name": "python",
   "nbconvert_exporter": "python",
   "pygments_lexer": "ipython3",
   "version": "3.9.6"
  },
  "orig_nbformat": 4
 },
 "nbformat": 4,
 "nbformat_minor": 2
}
