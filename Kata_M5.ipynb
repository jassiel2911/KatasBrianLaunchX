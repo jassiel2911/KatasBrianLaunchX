{
 "cells": [
  {
   "cell_type": "markdown",
   "metadata": {},
   "source": [
    "# Ejercicio 1 - Utilizar operadores aritméticos\n",
    "\n",
    "## Operadores aritméticos en Python"
   ]
  },
  {
   "cell_type": "markdown",
   "metadata": {},
   "source": []
  },
  {
   "cell_type": "code",
   "execution_count": 3,
   "metadata": {},
   "outputs": [
    {
     "name": "stdout",
     "output_type": "stream",
     "text": [
      "628949330\n",
      "390577533.93\n"
     ]
    }
   ],
   "source": [
    "# Crear variables para almacenar las dos distancias\n",
    "disTierra = 149597870\n",
    "disJupiter = 778547200\n",
    "\n",
    "# Calcular la distancia entre planetas\n",
    "\n",
    "disPlanetas = (disJupiter - disTierra)\n",
    "disPlanetasmillas = disPlanetas * 0.621 \n",
    "\n",
    "print(disPlanetas)\n",
    "print(disPlanetasmillas)\n",
    "\n"
   ]
  },
  {
   "cell_type": "markdown",
   "metadata": {},
   "source": [
    "# Ejercicio 2: Convierte cadenas en números y usa valores absolutos.\n",
    "## Crear una aplicación para trabajar con números y entrada de usuario."
   ]
  },
  {
   "cell_type": "code",
   "execution_count": null,
   "metadata": {},
   "outputs": [],
   "source": [
    "# Almacenar las entradas del usuario\n",
    "\n",
    "primer_planeta = input('Distancia desde el Sol del primer planeta: ')\n",
    "segundo_planeta = input('Distancia desde el Sol del segundo planeta: ')\n",
    "\n",
    "# Convertir a enteros\n",
    "\n",
    "primerEntero = int(primer_planeta)\n",
    "segundoEntero = int(segundo_planeta)\n",
    "\n",
    "#Realizar el cálculo y determinar el valor absoluto\n",
    "\n",
    "distancia = primerEntero - segundoEntero\n",
    "print(\"La distancia entre planetas en KM es: \", abs(distancia))\n",
    "print(\"La distancia entre planetas en millas es: \", abs(distancia * 0.621))"
   ]
  }
 ],
 "metadata": {
  "interpreter": {
   "hash": "2b9edfc7eaec077dc9f0d3913a104727068fac3f339d004fceb4ef0ef78c9124"
  },
  "kernelspec": {
   "display_name": "Python 3.9.6 64-bit",
   "language": "python",
   "name": "python3"
  },
  "language_info": {
   "codemirror_mode": {
    "name": "ipython",
    "version": 3
   },
   "file_extension": ".py",
   "mimetype": "text/x-python",
   "name": "python",
   "nbconvert_exporter": "python",
   "pygments_lexer": "ipython3",
   "version": "3.9.6"
  },
  "orig_nbformat": 4
 },
 "nbformat": 4,
 "nbformat_minor": 2
}
