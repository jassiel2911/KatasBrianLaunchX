{
 "cells": [
  {
   "cell_type": "markdown",
   "metadata": {},
   "source": [
    "# Ejercicio: Uso de funciones en Python\n",
    "## Ejercicio 1: Para trabajar con argumentos en funciones en Python"
   ]
  },
  {
   "cell_type": "code",
   "execution_count": 3,
   "metadata": {},
   "outputs": [
    {
     "name": "stdout",
     "output_type": "stream",
     "text": [
      "Reporte de combustible:\n",
      "    Promedio total : 71.66666666666667%\n",
      "    Tanque 1: 60%\n",
      "    Tanque 2: 70%\n",
      "    Tanque 3: 85%\n",
      "    \n"
     ]
    },
    {
     "data": {
      "text/plain": [
       "75.33333333333333"
      ]
     },
     "execution_count": 3,
     "metadata": {},
     "output_type": "execute_result"
    }
   ],
   "source": [
    "# Función para leer 3 tanques de combustible y muestre el promedio.\n",
    "\n",
    "def lectura(tanque1, tanque2, tanque3):\n",
    "    promedio = (tanque1 + tanque2 + tanque3) / 3\n",
    "    return f\"\"\"Reporte de combustible:\n",
    "    Promedio total : {promedio}%\n",
    "    Tanque 1: {tanque1}%\n",
    "    Tanque 2: {tanque2}%\n",
    "    Tanque 3: {tanque3}%\n",
    "    \"\"\"\n",
    "\n",
    "# Llamamos a la función que imprimirá el reporte.\n",
    "\n",
    "print(lectura(60,70,85)) \n",
    "\n",
    "# Función promedio que\n",
    "def promedio(valores):\n",
    "    total = sum(valores)\n",
    "    numero_elementos = len(valores)\n",
    "    return total / numero_elementos\n",
    "\n",
    "# Probamos la función\n",
    "promedio([60, 85, 81])"
   ]
  },
  {
   "cell_type": "code",
   "execution_count": 5,
   "metadata": {},
   "outputs": [
    {
     "name": "stdout",
     "output_type": "stream",
     "text": [
      "Reporte de combustible:\n",
      "    Promedio total : 61.333333333333336%\n",
      "    Tanque 1: 88%\n",
      "    Tanque 2: 50%\n",
      "    Tanque 3: 46%\n",
      "    \n"
     ]
    }
   ],
   "source": [
    "# Actualiza la función de\n",
    "def lectura(tanque1, tanque2, tanque3):\n",
    "    return f\"\"\"Reporte de combustible:\n",
    "    Promedio total : {promedio([tanque1, tanque2, tanque3])}%\n",
    "    Tanque 1: {tanque1}%\n",
    "    Tanque 2: {tanque2}%\n",
    "    Tanque 3: {tanque3}%\n",
    "    \"\"\"\n",
    "\n",
    "# Llamamos a la función\n",
    "print(lectura(88, 50, 46))"
   ]
  },
  {
   "cell_type": "markdown",
   "metadata": {},
   "source": [
    "# Ejercicio 2: Trabajo con argumentos de palabras clave.\n",
    "## Ejercicio: Trabajar con argumentos de palabras clave en funciones."
   ]
  },
  {
   "cell_type": "code",
   "execution_count": 3,
   "metadata": {},
   "outputs": [
    {
     "name": "stdout",
     "output_type": "stream",
     "text": [
      "\n",
      "    Misión a Luna\n",
      "    Tiempo de viaje: 65 minutos\n",
      "    Combustible restante: 500000 galones\n",
      "    \n",
      "\n",
      "    Misión a Luna\n",
      "    Tiempo de viaje: 76 minutos\n",
      "    Combustible restante: 500000\n",
      "    \n",
      "\n",
      "    Misión a Luna\n",
      "    Tiempo de viaje: 74 minutos\n",
      "    Combustible restante: 500000\n",
      "    principal tanque --> 300000 galones restantes \n",
      "externo tanque --> 200000 galones restantes \n",
      "\n"
     ]
    }
   ],
   "source": [
    "# Función con un informa preciso de la misión. Considera hora de prelanzamiento,\n",
    "# tiempo de vuelo, destino, tanque externo y tanque interno.\n",
    "\n",
    "def reporte(prelanzamiento, tiempo_vuelo, destino, tanque_ext, tanque_prin):\n",
    "    return f\"\"\"\n",
    "    Misión a {destino}\n",
    "    Tiempo de viaje: {prelanzamiento + tiempo_vuelo} minutos\n",
    "    Combustible restante: {tanque_ext + tanque_prin} galones\n",
    "    \"\"\"\n",
    "\n",
    "print(reporte(14, 51, \"Luna\", 200000, 300000))\n",
    "\n",
    "# Escribiendo tu nueva función de reporte considerando lo anterior.\n",
    "def nuevo_reporte(destino, *minutos, **reservas_gas):\n",
    "    return f\"\"\"\n",
    "    Misión a {destino}\n",
    "    Tiempo de viaje: {sum(minutos)} minutos\n",
    "    Combustible restante: {sum(reservas_gas.values())}\n",
    "    \"\"\"\n",
    "\n",
    "print(nuevo_reporte(\"Luna\",10, 15, 51, principal = 300000, externo = 200000))\n",
    "# Escribe tu nueva función\n",
    "\n",
    "def nuevo_reporte2(destino, *minutos, **reservas_gas):\n",
    "    reporte_principal = f\"\"\"\n",
    "    Misión a {destino}\n",
    "    Tiempo de viaje: {sum(minutos)} minutos\n",
    "    Combustible restante: {sum(reservas_gas.values())}\n",
    "    \"\"\"\n",
    "    for nombre_tanque, galones in reservas_gas.items():\n",
    "        reporte_principal += f\"{nombre_tanque} tanque --> {galones} galones restantes \\n\"\n",
    "    return reporte_principal\n",
    "\n",
    "print(nuevo_reporte2(\"Luna\",8, 11, 55, principal = 300000, externo = 200000))\n",
    "\n"
   ]
  }
 ],
 "metadata": {
  "interpreter": {
   "hash": "e8d83501dcde52dc6b00793af65b358d26d5f3f95891074592ea0c640f78fc96"
  },
  "kernelspec": {
   "display_name": "Python 3.9.7 ('base')",
   "language": "python",
   "name": "python3"
  },
  "language_info": {
   "codemirror_mode": {
    "name": "ipython",
    "version": 3
   },
   "file_extension": ".py",
   "mimetype": "text/x-python",
   "name": "python",
   "nbconvert_exporter": "python",
   "pygments_lexer": "ipython3",
   "version": "3.9.7"
  },
  "orig_nbformat": 4
 },
 "nbformat": 4,
 "nbformat_minor": 2
}
